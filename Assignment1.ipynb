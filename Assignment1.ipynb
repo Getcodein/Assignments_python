{
 "cells": [
  {
   "attachments": {},
   "cell_type": "markdown",
   "id": "a249dffe",
   "metadata": {},
   "source": [
    "Assignment 1 Answers\n",
    "\n",
    "1)           * : expression\n",
    "        'hello': Value\n",
    "         -87.8 : Value\n",
    "            -  :expression\n",
    "            /  :Expression\n",
    "            +  :Expression\n",
    "            6  : Value\n",
    "\n",
    "\n",
    "2) String: A sequence of a character is known as String and it is a datatype which is denoted by single or double inverted commas : for eg : \"Hello\"\n",
    "   Variable: A character which can hold any value and can be change at any point of time.\n",
    "   For eg : a= 10\n",
    "   here a is a variable which holds value 10 .\n",
    "   \n",
    "3) Integer: stores whole numbers from positive to negative numbers.\n",
    "   For eg: -1, 30,40\n",
    "   Boolean : Stores TRUE OR FALSE .These values are used to determine the given statement true or false.  True can be    represented by any non-zero value '1'or 'T' whereas false can be represented by the 0 or 'F'.\n",
    "   for eg: TRUE , FALSE\n",
    "    complex number: It stores complex numbers with real and imaginary part\n",
    "    for eg: 4+1j\n",
    "  \n",
    "4) An expression is a combination of operators, constants and variables. An expression may consist of one or more operands, and zero or more operators to produce a value.\n",
    "for eg: s = 4 + 3  expressions are used to evaluate the values or represent the result on the screen.\n",
    "\n",
    "5)Expression is made up of values, containers, and mathematical operators (operands) .\n",
    "The statement is just like a command that a python interpreter executes like print.\n",
    "Spam=10\n",
    "\n",
    "6) bacon will give 22 only as bacon is still holding value 22 \n",
    "\n",
    "bacon=22\n",
    "bacon+1 =23\n",
    "\n",
    "\n",
    "print(bacon)=22\n",
    "\n",
    "7) 'spam' + 'spamspam'= 'spamspamspam'\n",
    "   'spam' * 3='spamspamspam'"
   ]
  },
  {
   "cell_type": "markdown",
   "id": "c81e6f1a",
   "metadata": {},
   "source": [
    "8) Because 100 is a literal and no value can be assign to this whereas eggs is a variable name\n",
    "\n",
    "100= 10\n",
    "eggs=10 is valid "
   ]
  },
  {
   "cell_type": "markdown",
   "id": "4502ea46",
   "metadata": {},
   "source": [
    "9)  str(), int(), float()"
   ]
  },
  {
   "cell_type": "markdown",
   "id": "8c1d2124",
   "metadata": {},
   "source": [
    "10) below statement can be corrected \n",
    "\n",
    "'I have eaten ' + str(99) + ' burritos.'"
   ]
  }
 ],
 "metadata": {
  "kernelspec": {
   "display_name": "Python 3 (ipykernel)",
   "language": "python",
   "name": "python3"
  },
  "language_info": {
   "codemirror_mode": {
    "name": "ipython",
    "version": 3
   },
   "file_extension": ".py",
   "mimetype": "text/x-python",
   "name": "python",
   "nbconvert_exporter": "python",
   "pygments_lexer": "ipython3",
   "version": "3.9.7"
  }
 },
 "nbformat": 4,
 "nbformat_minor": 5
}
